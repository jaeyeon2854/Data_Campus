{
  "nbformat": 4,
  "nbformat_minor": 0,
  "metadata": {
    "colab": {
      "provenance": []
    },
    "kernelspec": {
      "name": "python3",
      "display_name": "Python 3"
    }
  },
  "cells": [
    {
      "cell_type": "markdown",
      "metadata": {
        "id": "JaMi96c-C8CP"
      },
      "source": [
        "## 결측치 처리하기"
      ]
    },
    {
      "cell_type": "code",
      "metadata": {
        "id": "VY3whgl20gzr"
      },
      "source": [
        "import pandas as pd\n",
        "\n",
        "data = [\n",
        "  [  10,   20, None, 100],\n",
        "  [  20,   20, None, 200],\n",
        "  [None, None, None, None],\n",
        "  [None, None, None, 400],\n",
        "]\n",
        "\n",
        "df = pd.DataFrame(data, columns=list('ABCD'))\n",
        "df"
      ],
      "execution_count": null,
      "outputs": []
    },
    {
      "cell_type": "code",
      "metadata": {
        "id": "0c7lAjk_vrgt"
      },
      "source": [
        "df.dropna(how='all')"
      ],
      "execution_count": null,
      "outputs": []
    },
    {
      "cell_type": "code",
      "metadata": {
        "id": "QcM9n2HWvrgw"
      },
      "source": [
        "df.dropna(axis=1, how='all')"
      ],
      "execution_count": null,
      "outputs": []
    },
    {
      "cell_type": "markdown",
      "metadata": {
        "id": "KpgFlChq8bNk"
      },
      "source": [
        "## 결측치를 다른 값으로 바꾸기\n",
        "\n",
        "```python\n",
        "df.fillna(value=0)\n",
        "```\n"
      ]
    },
    {
      "cell_type": "code",
      "metadata": {
        "id": "-a2yk_Zz8rGR"
      },
      "source": [
        "data = [\n",
        "  [  10,   20, None, 100],\n",
        "  [  20,   20,   80, 200],\n",
        "  [  30,   40, None, 300],\n",
        "  [None, None,  400, 400],\n",
        "]\n",
        "\n",
        "df = pd.DataFrame(data, columns=list('ABCD'))\n",
        "df"
      ],
      "execution_count": null,
      "outputs": []
    },
    {
      "cell_type": "code",
      "metadata": {
        "id": "fE3DKM6y8bH9"
      },
      "source": [
        "df.fillna(0)"
      ],
      "execution_count": null,
      "outputs": []
    },
    {
      "cell_type": "code",
      "metadata": {
        "id": "vuIB_QwA80g1"
      },
      "source": [
        "df.fillna(-1)"
      ],
      "execution_count": null,
      "outputs": []
    },
    {
      "cell_type": "markdown",
      "metadata": {
        "id": "ixFuKXoXvrgz"
      },
      "source": [
        "## 데이터 병합 concat\n",
        "```python\n",
        "pd.concat(axis=0)\n",
        "```"
      ]
    },
    {
      "cell_type": "code",
      "metadata": {
        "id": "tz20NiF53sVt"
      },
      "source": [
        "df_01 = pd.DataFrame([[11, 12, 13], [14, 15, 16]], columns=list('ABC'))\n",
        "df_01"
      ],
      "execution_count": null,
      "outputs": []
    },
    {
      "cell_type": "code",
      "metadata": {
        "id": "WAWe7Fwv3sPE"
      },
      "source": [
        "df_02 = pd.DataFrame([[21, 22, 23], [24, 25, 26]], columns=list('ABC'))\n",
        "df_02"
      ],
      "execution_count": null,
      "outputs": []
    },
    {
      "cell_type": "code",
      "metadata": {
        "id": "i672-Jj23ztv"
      },
      "source": [
        "pd.concat([df_01, df_02])"
      ],
      "execution_count": null,
      "outputs": []
    },
    {
      "cell_type": "code",
      "metadata": {
        "id": "JFk6epwM4Osu"
      },
      "source": [
        "df_01 = pd.DataFrame([[11, 12], [14, 15]], columns=list('AB'))\n",
        "df_01"
      ],
      "execution_count": null,
      "outputs": []
    },
    {
      "cell_type": "code",
      "metadata": {
        "id": "3X7UrW5f4ey6"
      },
      "source": [
        "df_02 = pd.DataFrame([[21, 22], [24, 25]], columns=list('CD'))\n",
        "df_02"
      ],
      "execution_count": null,
      "outputs": []
    },
    {
      "cell_type": "code",
      "metadata": {
        "id": "OsVk1eOE4yLJ"
      },
      "source": [
        "pd.concat([df_01, df_02])"
      ],
      "execution_count": null,
      "outputs": []
    },
    {
      "cell_type": "code",
      "metadata": {
        "id": "cXFqZiZj4hgA"
      },
      "source": [
        "pd.concat([df_01, df_02], axis=1)"
      ],
      "execution_count": null,
      "outputs": []
    },
    {
      "cell_type": "markdown",
      "metadata": {
        "id": "TW4YJsLv6FaY"
      },
      "source": [
        "## 데이터 병합 - merge\n",
        "\n",
        "```python\n",
        "pd.merge(df1, df2, how='inner')\n",
        "```"
      ]
    },
    {
      "cell_type": "code",
      "metadata": {
        "id": "RFWvdVdkEMuH"
      },
      "source": [
        "관심종목 = [\n",
        "  ['005930', '삼성전자'],\n",
        "  ['017670', 'SK텔레콤'],\n",
        "  ['105560', 'KB금융'],\n",
        "]\n",
        "\n",
        "배당 = [\n",
        "  ['005930', '삼성전자', 21000.0, 1.05],\n",
        "  ['000660', 'SK하이닉스', 500.0, 1.02],\n",
        "  ['005380', '현대차', 4000.0, 2.74],\n",
        "  ['105560', 'KB금융', 980.0, 2.0],\n",
        "  ['015760', '한국전력', 3100.0, 7.45],\n",
        "]\n",
        "\n",
        "df1 = pd.DataFrame(관심종목, columns=['종목코드', '종목명'])\n",
        "df2 = pd.DataFrame(배당, columns=['종목코드', '종목명', '주당배당금', '배당수익률'])"
      ],
      "execution_count": null,
      "outputs": []
    },
    {
      "cell_type": "code",
      "metadata": {
        "id": "RtvXQqUiEMqd"
      },
      "source": [
        "df1"
      ],
      "execution_count": null,
      "outputs": []
    },
    {
      "cell_type": "code",
      "metadata": {
        "id": "IsUPIKxGEMl2"
      },
      "source": [
        "df2"
      ],
      "execution_count": null,
      "outputs": []
    },
    {
      "cell_type": "code",
      "metadata": {
        "id": "ZBN64h1IF7Yu"
      },
      "source": [
        "pd.merge(df1, df2)"
      ],
      "execution_count": null,
      "outputs": []
    },
    {
      "cell_type": "code",
      "metadata": {
        "id": "QYeJE5poF7TL"
      },
      "source": [
        "pd.merge(df1, df2, how='left')"
      ],
      "execution_count": null,
      "outputs": []
    },
    {
      "cell_type": "markdown",
      "metadata": {
        "id": "1UydqtkfIFB2"
      },
      "source": [
        "왼쪽 DataFrame을 기준으로 삼으려면 how='left' 를 지정합니다. 왼쪽 DataFrame에 있는 로우들은 모두 결과에 포함됩니다."
      ]
    },
    {
      "cell_type": "code",
      "metadata": {
        "id": "TbxmDA39F7OU"
      },
      "source": [
        "pd.merge(df1, df2, how='outer')"
      ],
      "execution_count": null,
      "outputs": []
    },
    {
      "cell_type": "markdown",
      "metadata": {
        "id": "XmChvf55YB8E"
      },
      "source": [
        "## 데이터 병합 - 인덱스 활용\n",
        "```python\n",
        "df.set_index('index_col') # 인덱스 지정\n",
        "```"
      ]
    },
    {
      "cell_type": "code",
      "metadata": {
        "id": "s9kzHSWaYB2u"
      },
      "source": [
        "# 종목코드에 인덱스를 부여합니다\n",
        "\n",
        "관심종목 = [\n",
        "  ['005930', '삼성전자'],\n",
        "  ['017670', 'SK텔레콤'],\n",
        "  ['105560', 'KB금융'],\n",
        "]\n",
        "\n",
        "배당 = [\n",
        "  ['005930', '삼성전자', 21000.0, 1.05],\n",
        "  ['000660', 'SK하이닉스', 500.0, 1.02],\n",
        "  ['005380', '현대차', 4000.0, 2.74],\n",
        "  ['105560', 'KB금융', 980.0, 2.0],\n",
        "  ['015760', '한국전력', 3100.0, 7.45],\n",
        "]\n",
        "\n",
        "df1 = pd.DataFrame(관심종목, columns=['종목코드', '종목명'])\n",
        "df2 = pd.DataFrame(배당, columns=['종목코드', '종목명', '주당배당금', '배당수익률'])"
      ],
      "execution_count": null,
      "outputs": []
    },
    {
      "cell_type": "code",
      "metadata": {
        "id": "j7qvwWi_Z_Oy"
      },
      "source": [
        "df1 = df1.set_index('종목코드')\n",
        "df1"
      ],
      "execution_count": null,
      "outputs": []
    },
    {
      "cell_type": "code",
      "metadata": {
        "id": "iylicz4MZ_KP"
      },
      "source": [
        "df2 = df2.set_index('종목코드')\n",
        "df2"
      ],
      "execution_count": null,
      "outputs": []
    },
    {
      "cell_type": "code",
      "metadata": {
        "id": "I8T7L-AqbvXR"
      },
      "source": [
        "df1['배당수익률'] = df2['배당수익률']\n",
        "df1"
      ],
      "execution_count": null,
      "outputs": []
    },
    {
      "cell_type": "code",
      "metadata": {
        "id": "qI4BkoAQbvR0"
      },
      "source": [
        "df1[['주당배당금', '배당수익률']] = df2[['주당배당금', '배당수익률']]\n",
        "df1"
      ],
      "execution_count": null,
      "outputs": []
    },
    {
      "cell_type": "markdown",
      "metadata": {
        "id": "g-GLvcwtvrgK"
      },
      "source": [
        "## 피벗 (pivot)\n",
        "```python\n",
        "df.pivot(index='col_i', columns='col_c', values='col_v')\n",
        "```\n",
        "\n"
      ]
    },
    {
      "cell_type": "code",
      "metadata": {
        "id": "2-fiyMB6A6xX"
      },
      "source": [
        "import pandas as pd\n",
        "\n",
        "data = [\n",
        "  ['2013-01', 'KT', 60.30],\n",
        "  ['2013-02', 'KT', 69.60],\n",
        "  ['2013-03', 'KT', 64.38],\n",
        "  ['2013-01', 'KT', 52.77],\n",
        "  ['2013-02', 'SKT', 95.23],\n",
        "  ['2013-03', 'SKT', 84.20],\n",
        "]\n",
        "\n",
        "df = pd.DataFrame(data, columns=['month', 'corp', 'ad_exp'])\n",
        "df"
      ],
      "execution_count": null,
      "outputs": []
    },
    {
      "cell_type": "code",
      "metadata": {
        "id": "14PzDbD9BS79"
      },
      "source": [
        "df.pivot_table(index='month', columns='corp', values='ad_exp')"
      ],
      "execution_count": null,
      "outputs": []
    },
    {
      "cell_type": "code",
      "metadata": {
        "id": "BI1tZy3aPHjY"
      },
      "source": [
        "# 간단한 예제\n",
        "import pandas as pd\n",
        "\n",
        "data = [\n",
        "  ['1', 'A', 10],\n",
        "  ['1', 'A', 20],\n",
        "  ['2', 'A', 30],\n",
        "  ['2', 'B', 40],\n",
        "]\n",
        "\n",
        "df = pd.DataFrame(data, columns=['ix', 'col', 'val'])\n",
        "df"
      ],
      "execution_count": null,
      "outputs": []
    },
    {
      "cell_type": "code",
      "metadata": {
        "id": "7pKYZMEHQk5I"
      },
      "source": [
        "df.pivot_table(index='ix', columns='col', values='val', aggfunc='sum')"
      ],
      "execution_count": null,
      "outputs": []
    },
    {
      "cell_type": "code",
      "metadata": {
        "id": "rGn3HeuuvrgC"
      },
      "source": [
        "import pandas as pd\n",
        "\n",
        "data = [\n",
        "  ['2013-01', 'KT', 50.30],\n",
        "  ['2013-01', 'KT', 10.09],\n",
        "  ['2013-02', 'KT', 69.60],\n",
        "  ['2013-03', 'KT', 64.38],\n",
        "  ['2013-01', 'SKT', 52.77],\n",
        "  ['2013-02', 'SKT', 95.23],\n",
        "  ['2013-03', 'SKT', 84.20],\n",
        "]\n",
        "\n",
        "df = pd.DataFrame(data, columns=['month', 'corp', 'ad_exp'])\n",
        "df"
      ],
      "execution_count": null,
      "outputs": []
    },
    {
      "cell_type": "code",
      "source": [
        "df.pivot_table(index='month')"
      ],
      "metadata": {
        "id": "s3ZIAnj_uqNt"
      },
      "execution_count": null,
      "outputs": []
    },
    {
      "cell_type": "code",
      "metadata": {
        "id": "S3TsRdlyvrgK"
      },
      "source": [
        "df.pivot_table( index='month', columns='corp' )"
      ],
      "execution_count": null,
      "outputs": []
    },
    {
      "cell_type": "code",
      "metadata": {
        "id": "BWFCtdSdAn3x"
      },
      "source": [
        "df.pivot_table( index='month', columns='corp', values='ad_exp', aggfunc='sum')"
      ],
      "execution_count": null,
      "outputs": []
    },
    {
      "cell_type": "code",
      "metadata": {
        "id": "Z8ZPLuoj9ggZ"
      },
      "source": [
        "df.pivot_table( index='month', columns='corp', values='ad_exp', aggfunc='sum', margins=True)"
      ],
      "execution_count": null,
      "outputs": []
    }
  ]
}