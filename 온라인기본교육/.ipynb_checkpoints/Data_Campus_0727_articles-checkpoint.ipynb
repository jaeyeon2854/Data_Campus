{
 "cells": [
  {
   "cell_type": "code",
   "execution_count": 2,
   "id": "95351ad8",
   "metadata": {},
   "outputs": [],
   "source": [
    "import os, codecs, re, datetime, requests\n",
    "import urllib.request as ur\n",
    "from bs4 import BeautifulSoup as bs\n",
    "os.chdir(r'/Users/jaeyeon/Desktop/데이터청년캠퍼스/프로젝트교육/crawling')\n",
    "url = 'https://news.daum.net/'\n",
    "f = open(str(datetime.date.today()) + 'articles.txt', 'w')\n",
    "soup = bs(ur.urlopen(url).read(), 'html.parser')\n",
    "\n",
    "for i in soup.find_all('div',{\"class\" : \"item_issue\"}):\n",
    "    try:\n",
    "        f.write(i.text+'\\n')\n",
    "        f.write(i.find_all('a')[0].get('href') + '\\n')\n",
    "        soup2 = bs(ur.urlopen(i.find_all('a')[0].get('href')).read(), 'html.parser')\n",
    "        for j in soup2.find_all('p'):\n",
    "            f.write(j.text)\n",
    "    except:\n",
    "        pass\n",
    "f.close()"
   ]
  },
  {
   "cell_type": "code",
   "execution_count": null,
   "id": "05994d8d",
   "metadata": {},
   "outputs": [],
   "source": []
  }
 ],
 "metadata": {
  "kernelspec": {
   "display_name": "Python 3 (ipykernel)",
   "language": "python",
   "name": "python3"
  },
  "language_info": {
   "codemirror_mode": {
    "name": "ipython",
    "version": 3
   },
   "file_extension": ".py",
   "mimetype": "text/x-python",
   "name": "python",
   "nbconvert_exporter": "python",
   "pygments_lexer": "ipython3",
   "version": "3.9.13"
  }
 },
 "nbformat": 4,
 "nbformat_minor": 5
}
