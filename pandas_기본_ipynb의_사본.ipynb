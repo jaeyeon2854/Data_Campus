{
  "nbformat": 4,
  "nbformat_minor": 0,
  "metadata": {
    "colab": {
      "provenance": []
    },
    "kernelspec": {
      "name": "python3",
      "display_name": "Python 3"
    }
  },
  "cells": [
    {
      "cell_type": "code",
      "metadata": {
        "id": "UthAiw3tSBDN"
      },
      "source": [
        "import pandas as pd\n",
        "\n",
        "s = pd.Series([7, 0, -3, 8, 1])\n",
        "s"
      ],
      "execution_count": null,
      "outputs": []
    },
    {
      "cell_type": "code",
      "metadata": {
        "id": "c0RwfKsVKeqL"
      },
      "source": [
        "data = [7, 0, -3, 8, 1]\n",
        "inx = ['A', 'B', 'C', 'D', 'E']\n",
        "\n",
        "s = pd.Series(data, index=inx)\n",
        "s"
      ],
      "execution_count": null,
      "outputs": []
    },
    {
      "cell_type": "code",
      "metadata": {
        "id": "dpEl53nXKeqO"
      },
      "source": [
        "s[0]"
      ],
      "execution_count": null,
      "outputs": []
    },
    {
      "cell_type": "code",
      "metadata": {
        "id": "M6SSZXuuKeqR"
      },
      "source": [
        "s['A']"
      ],
      "execution_count": null,
      "outputs": []
    },
    {
      "cell_type": "code",
      "metadata": {
        "id": "uFNHh1G5CBgI"
      },
      "source": [
        "## pandas 핵심 자료구조 - DataFrame\n",
        "# dict로 부터 생성하기\n",
        "\n",
        "data = {\n",
        "  'A' : [10, 20, 30],\n",
        "  'B' : [40, 50, 60],\n",
        "  'C' : [70, 80, 90],\n",
        "}\n",
        "\n",
        "df = pd.DataFrame(data, index = [1, 2, 3])\n",
        "df"
      ],
      "execution_count": null,
      "outputs": []
    },
    {
      "cell_type": "code",
      "metadata": {
        "id": "yVQ-PjqLEE7i"
      },
      "source": [
        "import pandas as pd\n",
        "\n",
        "values = [[10, 20, 30], [40, 50, 60], [70, 80, 90]]\n",
        "index = [1,2,3]\n",
        "columns = ['A', 'B', 'C']\n",
        "\n",
        "df = pd.DataFrame(values, index=index, columns=columns)\n",
        "df"
      ],
      "execution_count": null,
      "outputs": []
    },
    {
      "cell_type": "code",
      "metadata": {
        "id": "3wzkJ0964zMp"
      },
      "source": [
        "df.head(2) # 처음 2개 행"
      ],
      "execution_count": null,
      "outputs": []
    },
    {
      "cell_type": "code",
      "metadata": {
        "id": "0DBdhkTs5APB"
      },
      "source": [
        "df.tail(2) # 뒷부분 2개 행"
      ],
      "execution_count": null,
      "outputs": []
    },
    {
      "cell_type": "code",
      "metadata": {
        "id": "yhs9lMQx5Dh8"
      },
      "source": [
        "df[df.A >= 50] # 컬럼 A가 50 이상인 행을 조회"
      ],
      "execution_count": null,
      "outputs": []
    },
    {
      "cell_type": "code",
      "metadata": {
        "id": "8E1VwNG95Q5w"
      },
      "source": [
        "# 정수 인덱싱\n",
        "df.iloc[1:3]"
      ],
      "execution_count": null,
      "outputs": []
    },
    {
      "cell_type": "code",
      "metadata": {
        "id": "riqYOExO5YV_"
      },
      "source": [
        "df.iloc[:, [1, 0]]"
      ],
      "execution_count": null,
      "outputs": []
    },
    {
      "cell_type": "code",
      "metadata": {
        "id": "aHZj99V65ftH"
      },
      "source": [
        "# 레이블 인덱싱\n",
        "df.loc[:,'A':'B']"
      ],
      "execution_count": null,
      "outputs": []
    },
    {
      "cell_type": "code",
      "metadata": {
        "id": "NiokmFVM5qE5"
      },
      "source": [
        "df.loc[df['B'] > 40, ['B', 'A']]"
      ],
      "execution_count": null,
      "outputs": []
    },
    {
      "cell_type": "code",
      "metadata": {
        "id": "_xPXo_AM5pYw"
      },
      "source": [
        "df['C'] # 혹은 df.C"
      ],
      "execution_count": null,
      "outputs": []
    },
    {
      "cell_type": "code",
      "metadata": {
        "id": "Zz-pQlx66AUo"
      },
      "source": [
        "df[['C','A','B']] # 특정 컬럼만 지정해서 순서대로 읽기"
      ],
      "execution_count": null,
      "outputs": []
    },
    {
      "cell_type": "code",
      "metadata": {
        "id": "qOroc05REE7q"
      },
      "source": [
        "# 리스트로 부터 생성하기\n",
        "\n",
        "values = [\n",
        "  ['2019-10', 17213058, 17695770, 7691742, 5811352, 4966225],\n",
        "  ['2019-11', 15767139, 18344561, 9932071, 5760428, 2329041],\n",
        "  ['2019-12', 14289812, 14807176, 12660962, 6626276, 8914585],\n",
        "  ['2020-01', 4972074, 11391979, 9596229, 5834792, 3650543],\n",
        "  ['2020-02', 23522875, 4874541, 4993788, 2757485, 5236393],\n",
        "  ['2020-03', 25040023, 17347968, 6374132, 3168658, 6835417],\n",
        "]\n",
        "\n",
        "df = pd.DataFrame(values)\n",
        "df"
      ],
      "execution_count": null,
      "outputs": []
    },
    {
      "cell_type": "code",
      "metadata": {
        "id": "0M8xGYC_EE7t"
      },
      "source": [
        "# DataFrame을 생성하면서 컬럼 지정하기\n",
        "\n",
        "cols = ['날짜', '삼성전자', 'LG전자', '현대자동차', 'SK텔레콤', 'KT']\n",
        "df = pd.DataFrame(values, columns=cols)\n",
        "df"
      ],
      "execution_count": null,
      "outputs": []
    },
    {
      "cell_type": "code",
      "metadata": {
        "id": "_KviYmboEE7y"
      },
      "source": [
        "# 딕셔너리로 부터 생성\n",
        "values = {\n",
        "    '날짜': ['2019-10', '2019-11', '2019-12', '2020-01', '2020-02', '2020-03'],\n",
        "    '삼성전자': [17213058, 15767139, 14289812,  4972074, 23522875, 25040023],\n",
        "    'LG전자': [17695770, 18344561, 14807176, 11391979,  4874541, 17347968],\n",
        "    '현대자동차': [ 7691742,  9932071, 12660962,  9596229,  4993788,  6374132],\n",
        "    'SK텔레콤' : [5811352, 5760428, 6626276, 5834792, 2757485, 3168658],\n",
        "    'KT': [4966225, 2329041, 8914585, 3650543, 5236393, 6835417],\n",
        "}\n",
        "\n",
        "df = pd.DataFrame(values)\n",
        "df"
      ],
      "execution_count": null,
      "outputs": []
    },
    {
      "cell_type": "code",
      "metadata": {
        "id": "VTf5h2PcLNMS"
      },
      "source": [
        "dates = pd.to_datetime(['2019-10', '2019-11', '2019-12', '2020-01', '2020-02', '2020-03'])\n",
        "dates"
      ],
      "execution_count": null,
      "outputs": []
    },
    {
      "cell_type": "code",
      "metadata": {
        "id": "LJge3HhVHlrT"
      },
      "source": [
        "# 딕셔너리로 부터 생성\n",
        "# 생성하면서 인덱스를 지정\n",
        "import pandas as pd\n",
        "\n",
        "values = {\n",
        "    '삼성전자': [17213058, 15767139, 14289812,  4972074, 23522875, 25040023],\n",
        "    'LG전자': [17695770, 18344561, 14807176, 11391979,  4874541, 17347968],\n",
        "    '현대자동차': [ 7691742,  9932071, 12660962,  9596229,  4993788,  6374132],\n",
        "    'SK텔레콤' : [5811352, 5760428, 6626276, 5834792, 2757485, 3168658],\n",
        "    'KT': [4966225, 2329041, 8914585, 3650543, 5236393, 6835417],\n",
        "}\n",
        "\n",
        "dates = pd.to_datetime(['2019-10', '2019-11', '2019-12', '2020-01', '2020-02', '2020-03'])\n",
        "df = pd.DataFrame(values, index=dates)\n",
        "df"
      ],
      "execution_count": null,
      "outputs": []
    },
    {
      "cell_type": "code",
      "metadata": {
        "id": "wo9tVRycEE77"
      },
      "source": [
        "# 인덱스(index)\n",
        "df.index"
      ],
      "execution_count": null,
      "outputs": []
    },
    {
      "cell_type": "code",
      "metadata": {
        "id": "F9iJFJDAEE8A"
      },
      "source": [
        "# 열(column)\n",
        "df.columns"
      ],
      "execution_count": null,
      "outputs": []
    },
    {
      "cell_type": "code",
      "metadata": {
        "id": "ehwAFypAEE8D"
      },
      "source": [
        "# 값 (2차원 배열)\n",
        "df.values"
      ],
      "execution_count": null,
      "outputs": []
    },
    {
      "cell_type": "markdown",
      "metadata": {
        "id": "S_PFSOpnEE8H"
      },
      "source": [
        "## df.dtypes\n",
        "df.dtypes - 각 컬럼의 데이터 타입을 확인"
      ]
    },
    {
      "cell_type": "code",
      "metadata": {
        "id": "QRXx3KJ-EE8I"
      },
      "source": [
        "# 열(column)과 타입\n",
        "df.dtypes"
      ],
      "execution_count": null,
      "outputs": []
    },
    {
      "cell_type": "markdown",
      "metadata": {
        "id": "sDWAywZ_EE8L"
      },
      "source": [
        "## DataFrame 데이터 살펴보기"
      ]
    },
    {
      "cell_type": "code",
      "metadata": {
        "id": "sBbaTm3nEE8k"
      },
      "source": [
        "# 전체 살펴보기\n",
        "df"
      ],
      "execution_count": null,
      "outputs": []
    },
    {
      "cell_type": "markdown",
      "metadata": {
        "id": "_dyjPGx3tfVV"
      },
      "source": [
        "len(df) - 행(row)의 수\n"
      ]
    },
    {
      "cell_type": "code",
      "metadata": {
        "id": "HyHCbTETEE8V"
      },
      "source": [
        "# 행(row) 수 (df.shape[0] 와 동일하다)\n",
        "len(df)"
      ],
      "execution_count": null,
      "outputs": []
    },
    {
      "cell_type": "code",
      "metadata": {
        "id": "pLZCbgIVEE8o"
      },
      "source": [
        "# 컬럼 살펴보기\n",
        "df.삼성전자"
      ],
      "execution_count": null,
      "outputs": []
    },
    {
      "cell_type": "code",
      "metadata": {
        "id": "O_xexIgHEE8r"
      },
      "source": [
        "# 컬럼(Series) 살펴보기\n",
        "df['삼성전자']"
      ],
      "execution_count": null,
      "outputs": []
    },
    {
      "cell_type": "markdown",
      "metadata": {
        "id": "zCW1S-Aitlju"
      },
      "source": [
        "DataFrame 데이터 살펴보기\n",
        "* df.head() - 앞 부분 보기\n",
        "* df.tail() - 뒷 부분 보기\n"
      ]
    },
    {
      "cell_type": "code",
      "metadata": {
        "id": "9Lbs7uZmEE8M"
      },
      "source": [
        "# 앞 부분 보기 (기본 5행)\n",
        "df.head(2)"
      ],
      "execution_count": null,
      "outputs": []
    },
    {
      "cell_type": "code",
      "metadata": {
        "id": "8iNrRXwIEE8Q"
      },
      "source": [
        "# 뒷 부분 보기 (기본 5행)\n",
        "df.tail(2)"
      ],
      "execution_count": null,
      "outputs": []
    },
    {
      "cell_type": "markdown",
      "metadata": {
        "id": "yD8qDy03uHkd"
      },
      "source": [
        "## 컬럼 지정하기"
      ]
    },
    {
      "cell_type": "code",
      "metadata": {
        "id": "tWGh4CVgKEVo"
      },
      "source": [
        "df.KT"
      ],
      "execution_count": null,
      "outputs": []
    },
    {
      "cell_type": "code",
      "metadata": {
        "id": "qeq9cSeKKIM2"
      },
      "source": [
        "df['KT']"
      ],
      "execution_count": null,
      "outputs": []
    },
    {
      "cell_type": "code",
      "metadata": {
        "id": "OfZrQqjCK4TT"
      },
      "source": [
        "df.values"
      ],
      "execution_count": null,
      "outputs": []
    },
    {
      "cell_type": "code",
      "metadata": {
        "id": "B1NNDlsopj14"
      },
      "source": [
        "df.KT.values"
      ],
      "execution_count": null,
      "outputs": []
    },
    {
      "cell_type": "markdown",
      "metadata": {
        "id": "3vIr3WZAEE8Z"
      },
      "source": [
        "## 데이터 요약 - df.describe()"
      ]
    },
    {
      "cell_type": "code",
      "metadata": {
        "id": "HS5KYUStEE8b"
      },
      "source": [
        "# 모든 컬럼의 기술통계(descriptive stats) 값\n",
        "df.describe()"
      ],
      "execution_count": null,
      "outputs": []
    },
    {
      "cell_type": "markdown",
      "metadata": {
        "id": "IRiCtb5oEE8y"
      },
      "source": [
        "## 인덱스 기반 조회\n",
        "* loc: 라벨 인덱싱\n",
        "* iloc: 정수 인덱싱"
      ]
    },
    {
      "cell_type": "code",
      "metadata": {
        "id": "f1rCFOowKesT"
      },
      "source": [
        "df"
      ],
      "execution_count": null,
      "outputs": []
    },
    {
      "cell_type": "code",
      "metadata": {
        "id": "qxTVugXV0tfG"
      },
      "source": [
        "# 특정 날짜를 지정\n",
        "df.loc['2020-01-01']"
      ],
      "execution_count": null,
      "outputs": []
    },
    {
      "cell_type": "code",
      "metadata": {
        "id": "fqFL77C60taW"
      },
      "source": [
        "# 컬럼을 추출\n",
        "\n",
        "df.loc[:, ['SK텔레콤','KT']]"
      ],
      "execution_count": null,
      "outputs": []
    },
    {
      "cell_type": "code",
      "metadata": {
        "id": "zEQNUGc00tUl"
      },
      "source": [
        "# 날짜의 범위를 지정\n",
        "df.loc['20200101': '20200229',['SK텔레콤','KT']]"
      ],
      "execution_count": null,
      "outputs": []
    },
    {
      "cell_type": "code",
      "metadata": {
        "id": "-jszfwaG3hoZ"
      },
      "source": [
        "df.loc[:, ['삼성전자','KT']] # 모든 로우, 컬럼 '삼성전자','KT' 선택"
      ],
      "execution_count": null,
      "outputs": []
    },
    {
      "cell_type": "code",
      "metadata": {
        "id": "6-kCrzxl1fUD"
      },
      "source": [
        "# 특정 행을 지정 (결과는 Series가 됩니다)\n",
        "df.loc['20200101', ['SK텔레콤','KT']]"
      ],
      "execution_count": null,
      "outputs": []
    },
    {
      "cell_type": "code",
      "metadata": {
        "id": "mu0VuCs31fOr"
      },
      "source": [
        "# 특정 값 하나를 얻습니다.\n",
        "df.loc['20200101', '현대자동차']"
      ],
      "execution_count": null,
      "outputs": []
    },
    {
      "cell_type": "code",
      "metadata": {
        "id": "YWBqxD3h1fJU"
      },
      "source": [
        "# 특정 값 하나를 얻습니다. (동일한 표현입니다. 값 1개만 찾을때 사용하며 속도가 더 빠릅니다)\n",
        "df.at['20200101', '현대자동차']"
      ],
      "execution_count": null,
      "outputs": []
    },
    {
      "cell_type": "code",
      "metadata": {
        "id": "3u1XiltIEE8z"
      },
      "source": [
        "df.iloc[1] # 1 행(두번째 행)"
      ],
      "execution_count": null,
      "outputs": []
    },
    {
      "cell_type": "code",
      "metadata": {
        "id": "-2JNEmWYEE8_"
      },
      "source": [
        "df.iloc[1:3] # 1~2행"
      ],
      "execution_count": null,
      "outputs": []
    },
    {
      "cell_type": "code",
      "metadata": {
        "id": "Cbi2OF2DEE9C"
      },
      "source": [
        "#첫번째 행(row), 첫번째 열(column)\n",
        "df.iloc[0,0]"
      ],
      "execution_count": null,
      "outputs": []
    },
    {
      "cell_type": "code",
      "metadata": {
        "id": "-o0MrIgsEE9F"
      },
      "source": [
        "# 처음 4개 행(row), 처음 2개 열(column)\n",
        "df.iloc[0:4, :2]"
      ],
      "execution_count": null,
      "outputs": []
    },
    {
      "cell_type": "code",
      "metadata": {
        "id": "yPn-DNu42uZg"
      },
      "source": [
        "# 특정 행을 지정하고, 컬럼의 범위를 지정\n",
        "df.iloc[[5, 2], 1:3]"
      ],
      "execution_count": null,
      "outputs": []
    },
    {
      "cell_type": "markdown",
      "metadata": {
        "id": "9Bv83K4nEE9N"
      },
      "source": [
        "# 컬럼 연산\n",
        "* 컬럼 추가\n",
        "* 컬럼간 사칙연산\n",
        "* 컬럼 삭제 (del)"
      ]
    },
    {
      "cell_type": "code",
      "metadata": {
        "id": "qYKTmhDdKes5"
      },
      "source": [
        "df"
      ],
      "execution_count": null,
      "outputs": []
    },
    {
      "cell_type": "code",
      "metadata": {
        "id": "nINs20OfEE9K"
      },
      "source": [
        "# 컬럼 추가\n",
        "\n",
        "df['텔레콤_합계'] = 0\n",
        "df"
      ],
      "execution_count": null,
      "outputs": []
    },
    {
      "cell_type": "code",
      "metadata": {
        "id": "J8y79Q4eEE9P"
      },
      "source": [
        "# 컬럼 덧셈하여 결과를 새로운 컬럼으로\n",
        "df['텔레콤_합계'] = df['SK텔레콤'] + df['KT']\n",
        "df"
      ],
      "execution_count": null,
      "outputs": []
    },
    {
      "cell_type": "code",
      "metadata": {
        "id": "nuZZlsOC5Y9U"
      },
      "source": [
        "df['전자_합계'] = df['삼성전자'] + df['LG전자']\n",
        "df"
      ],
      "execution_count": null,
      "outputs": []
    },
    {
      "cell_type": "markdown",
      "metadata": {
        "id": "KuIyzMrpEE9T"
      },
      "source": [
        "## 컬럼 단위 데이터 변경\n"
      ]
    },
    {
      "cell_type": "code",
      "metadata": {
        "id": "5ZRsKjvZ5FVI"
      },
      "source": [
        "# 모든 개별값을 100000으로 나눈 결과를 df에 할당\n",
        "df = df / 100000.\n",
        "df"
      ],
      "execution_count": null,
      "outputs": []
    },
    {
      "cell_type": "markdown",
      "metadata": {
        "id": "gPGCAcXrEE9e"
      },
      "source": [
        "## 컬럼 삭제\n",
        "df.drop() 사용하면서 축(axis)를 지정"
      ]
    },
    {
      "cell_type": "code",
      "metadata": {
        "id": "moqvHZk5EE9j"
      },
      "source": [
        "# 특정 컬럼 삭제\n",
        "df = df.drop('텔레콤_합계', axis=1)\n",
        "df"
      ],
      "execution_count": null,
      "outputs": []
    },
    {
      "cell_type": "code",
      "metadata": {
        "id": "-FGhtcSZ2h02"
      },
      "source": [
        "# del 명령으로 특정 컬럼 삭제\n",
        "del df['전자_합계']\n",
        "df"
      ],
      "execution_count": null,
      "outputs": []
    },
    {
      "cell_type": "markdown",
      "metadata": {
        "id": "TWTyUcYTEE-O"
      },
      "source": [
        "## 부울 인덱스 (데이터 필터링)"
      ]
    },
    {
      "cell_type": "code",
      "metadata": {
        "id": "13ftwyPUEE-P"
      },
      "source": [
        "df"
      ],
      "execution_count": null,
      "outputs": []
    },
    {
      "cell_type": "code",
      "metadata": {
        "id": "nF-Btt_A62Lv"
      },
      "source": [
        "df.삼성전자 < 150"
      ],
      "execution_count": null,
      "outputs": []
    },
    {
      "cell_type": "code",
      "metadata": {
        "id": "j_7paH_H63xo"
      },
      "source": [
        "# '삼성전자'컬럼이 150초과인 행(row) 추출\n",
        "df[df.삼성전자 < 150]"
      ],
      "execution_count": null,
      "outputs": []
    },
    {
      "cell_type": "code",
      "metadata": {
        "id": "umI38fpIwMxC"
      },
      "source": [
        "df.삼성전자.mean()"
      ],
      "execution_count": null,
      "outputs": []
    },
    {
      "cell_type": "code",
      "metadata": {
        "id": "IOqP0GLnvbEh"
      },
      "source": [
        "# 삼성전자 컬럼의 값이 평균보다 큰 행(row) 추출\n",
        "df[df.삼성전자 > df.삼성전자.mean()]"
      ],
      "execution_count": null,
      "outputs": []
    },
    {
      "cell_type": "markdown",
      "metadata": {
        "id": "Y19cmBvZEE-R"
      },
      "source": [
        "## 다수의 조건으로 필터링하기"
      ]
    },
    {
      "cell_type": "code",
      "metadata": {
        "id": "jXjMTrYkEE-R"
      },
      "source": [
        "df"
      ],
      "execution_count": null,
      "outputs": []
    },
    {
      "cell_type": "code",
      "metadata": {
        "id": "ZWTBJMDBEE-U"
      },
      "source": [
        "(150 < df.삼성전자 ) & (df.삼성전자 < 200)"
      ],
      "execution_count": null,
      "outputs": []
    },
    {
      "cell_type": "code",
      "metadata": {
        "id": "BVfl7uqMEE-W"
      },
      "source": [
        "df[(150 < df.삼성전자 ) & (df.삼성전자 < 200)]"
      ],
      "execution_count": null,
      "outputs": []
    },
    {
      "cell_type": "markdown",
      "metadata": {
        "id": "YV-EvzhKwTeW"
      },
      "source": [
        "## df.query()\n",
        "\n",
        "```python\n",
        "df.query('쿼리문자열')\n",
        "```"
      ]
    },
    {
      "cell_type": "code",
      "metadata": {
        "id": "4xrGsj448Jbh"
      },
      "source": [
        "df.query('150 < 삼성전자 < 200')"
      ],
      "execution_count": null,
      "outputs": []
    },
    {
      "cell_type": "code",
      "metadata": {
        "id": "GLDG0uxUwZ3i"
      },
      "source": [
        "df.query('삼성전자 > 삼성전자.mean() and  LG전자 > LG전자.mean()')"
      ],
      "execution_count": null,
      "outputs": []
    },
    {
      "cell_type": "markdown",
      "metadata": {
        "id": "HmblevZuEE-d"
      },
      "source": [
        "## 데이터 소트하기"
      ]
    },
    {
      "cell_type": "code",
      "metadata": {
        "id": "A7ktv_B7EE-f"
      },
      "source": [
        "df.sort_index(ascending=False)"
      ],
      "execution_count": null,
      "outputs": []
    },
    {
      "cell_type": "code",
      "metadata": {
        "id": "jH9bHsivEE-l"
      },
      "source": [
        "df.sort_values(by='삼성전자', ascending=False)"
      ],
      "execution_count": null,
      "outputs": []
    }
  ]
}