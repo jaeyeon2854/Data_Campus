{
 "cells": [
  {
   "cell_type": "markdown",
   "id": "3e0eec5e",
   "metadata": {},
   "source": [
    "# 사업성분석"
   ]
  },
  {
   "cell_type": "code",
   "execution_count": 21,
   "id": "5ab6b3c4",
   "metadata": {},
   "outputs": [],
   "source": [
    "import numpy as np\n",
    "\n",
    "discount = 0.05\n",
    "cashflow = 100 # 100억\n",
    "\n",
    "def presentvalue(n): # n:년도수\n",
    "    return (cashflow / ((1+discount ** n))) "
   ]
  },
  {
   "cell_type": "code",
   "execution_count": 22,
   "id": "f79f7e15",
   "metadata": {},
   "outputs": [
    {
     "data": {
      "text/plain": [
       "95.23809523809524"
      ]
     },
     "execution_count": 22,
     "metadata": {},
     "output_type": "execute_result"
    }
   ],
   "source": [
    "presentvalue(1)"
   ]
  },
  {
   "cell_type": "code",
   "execution_count": 23,
   "id": "b27ed4af",
   "metadata": {},
   "outputs": [
    {
     "name": "stdout",
     "output_type": "stream",
     "text": [
      "50.0\n",
      "95.23809523809524\n",
      "99.75062344139651\n",
      "99.98750156230471\n",
      "99.99937500390622\n",
      "99.99996875000976\n",
      "99.99999843750003\n",
      "99.999999921875\n",
      "99.99999999609375\n",
      "99.99999999980469\n",
      "99.99999999999024\n",
      "99.99999999999952\n",
      "99.99999999999997\n",
      "100.0\n",
      "100.0\n",
      "100.0\n",
      "100.0\n",
      "100.0\n",
      "100.0\n",
      "100.0\n"
     ]
    }
   ],
   "source": [
    "for i in range(20):\n",
    "    print(presentvalue(i))"
   ]
  },
  {
   "cell_type": "code",
   "execution_count": 26,
   "id": "dc49adf8",
   "metadata": {},
   "outputs": [],
   "source": [
    "loss = [-750, -250]\n",
    "profit = [100] * 18\n",
    "cf = loss + profit"
   ]
  },
  {
   "cell_type": "code",
   "execution_count": 27,
   "id": "6a97550e",
   "metadata": {},
   "outputs": [],
   "source": [
    "cashflow = np.array(cf)"
   ]
  },
  {
   "cell_type": "markdown",
   "id": "46846f02",
   "metadata": {},
   "source": [
    "!pip install numpy_financial"
   ]
  },
  {
   "cell_type": "code",
   "execution_count": 29,
   "id": "e883088d",
   "metadata": {},
   "outputs": [
    {
     "ename": "ModuleNotFoundError",
     "evalue": "No module named 'numpy_financial'",
     "output_type": "error",
     "traceback": [
      "\u001b[0;31m---------------------------------------------------------------------------\u001b[0m",
      "\u001b[0;31mModuleNotFoundError\u001b[0m                       Traceback (most recent call last)",
      "\u001b[0;32m/var/folders/kf/j0gdz6014055ff32gdvy_kvw0000gn/T/ipykernel_19584/546631424.py\u001b[0m in \u001b[0;36m<module>\u001b[0;34m\u001b[0m\n\u001b[0;32m----> 1\u001b[0;31m \u001b[0;32mimport\u001b[0m \u001b[0mnumpy_financial\u001b[0m \u001b[0;32mas\u001b[0m \u001b[0mnpf\u001b[0m\u001b[0;34m\u001b[0m\u001b[0;34m\u001b[0m\u001b[0m\n\u001b[0m",
      "\u001b[0;31mModuleNotFoundError\u001b[0m: No module named 'numpy_financial'"
     ]
    }
   ],
   "source": [
    "import numpy_financial as npf"
   ]
  },
  {
   "cell_type": "code",
   "execution_count": null,
   "id": "333fde11",
   "metadata": {},
   "outputs": [],
   "source": []
  }
 ],
 "metadata": {
  "kernelspec": {
   "display_name": "STUDY",
   "language": "python",
   "name": "study"
  },
  "language_info": {
   "codemirror_mode": {
    "name": "ipython",
    "version": 3
   },
   "file_extension": ".py",
   "mimetype": "text/x-python",
   "name": "python",
   "nbconvert_exporter": "python",
   "pygments_lexer": "ipython3",
   "version": "3.7.16"
  }
 },
 "nbformat": 4,
 "nbformat_minor": 5
}
